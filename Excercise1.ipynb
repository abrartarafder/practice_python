{
 "cells": [
  {
   "cell_type": "markdown",
   "metadata": {},
   "source": [
    "# Practice Python Excercise 1\n"
   ]
  },
  {
   "cell_type": "markdown",
   "metadata": {},
   "source": [
    "- ####  Create a program that asks the user to enter their name and their age. Print out a message addressed to them that tells them the year that they will turn 100 years old.  \n",
    "\n",
    "> Extras:   \n",
    "- Add on to the previous program by asking the user for another number and printing out that many copies of the previous message. (Hint: order of operations exists in Python)  \n",
    "- Print out that many copies of the previous message on separate lines. (Hint: the string \"\\n is the same as pressing the ENTER button)\n"
   ]
  },
  {
   "cell_type": "code",
   "execution_count": 5,
   "metadata": {
    "collapsed": false
   },
   "outputs": [
    {
     "name": "stdout",
     "output_type": "stream",
     "text": [
      "Enter nameVipin\n",
      "Enter age2\n",
      "Enter a number2\n",
      "You will turn 100 in 2115\n",
      "You will turn 100 in 2115\n"
     ]
    }
   ],
   "source": [
    "#Version 1\n",
    "def main():\n",
    "    name, age = input(\"Enter name\") , int( input(\"Enter age\"))\n",
    "    for i in range( int(input(\"Enter a number\"))):\n",
    "         print(\"You will turn 100 in {}\".format(2017-age+100))\n",
    "main()"
   ]
  },
  {
   "cell_type": "markdown",
   "metadata": {},
   "source": [
    "> Using `datetime` module to find current date and extracting year from the current date"
   ]
  },
  {
   "cell_type": "code",
   "execution_count": 14,
   "metadata": {
    "collapsed": false
   },
   "outputs": [
    {
     "name": "stdout",
     "output_type": "stream",
     "text": [
      "<class 'list'>\n",
      "2017\n"
     ]
    }
   ],
   "source": [
    "from datetime import date \n",
    "today = str(date.today()).split(\"-\")\n",
    "print(type(today))\n",
    "print(today[0])"
   ]
  },
  {
   "cell_type": "markdown",
   "metadata": {},
   "source": [
    "> Use the above and modify our program"
   ]
  },
  {
   "cell_type": "code",
   "execution_count": 11,
   "metadata": {
    "collapsed": false
   },
   "outputs": [
    {
     "name": "stdout",
     "output_type": "stream",
     "text": [
      "Enter nameV\n",
      "Enter age2\n",
      "Enter a number2\n",
      "You will turn 100 in 2115\n",
      "You will turn 100 in 2115\n"
     ]
    }
   ],
   "source": [
    "#Version 2\n",
    "\n",
    "from datetime import date \n",
    "def main():\n",
    "    name, age = input(\"Enter name\") , int( input(\"Enter age\"))\n",
    "    thisYear = find_years()\n",
    "    for i in range( int(input(\"Enter a number\"))):\n",
    "         print(\"You will turn 100 in {}\".format(thisYear-age+100))\n",
    "    \n",
    "def find_years():\n",
    "    today = str(date.today()).split('-')\n",
    "    return int(today[0])\n",
    "main()"
   ]
  },
  {
   "cell_type": "code",
   "execution_count": null,
   "metadata": {
    "collapsed": true
   },
   "outputs": [],
   "source": []
  },
  {
   "cell_type": "code",
   "execution_count": null,
   "metadata": {
    "collapsed": true
   },
   "outputs": [],
   "source": []
  },
  {
   "cell_type": "code",
   "execution_count": null,
   "metadata": {
    "collapsed": true
   },
   "outputs": [],
   "source": []
  }
 ],
 "metadata": {
  "kernelspec": {
   "display_name": "Python 3",
   "language": "python",
   "name": "python3"
  },
  "language_info": {
   "codemirror_mode": {
    "name": "ipython",
    "version": 3
   },
   "file_extension": ".py",
   "mimetype": "text/x-python",
   "name": "python",
   "nbconvert_exporter": "python",
   "pygments_lexer": "ipython3",
   "version": "3.6.0"
  }
 },
 "nbformat": 4,
 "nbformat_minor": 2
}
