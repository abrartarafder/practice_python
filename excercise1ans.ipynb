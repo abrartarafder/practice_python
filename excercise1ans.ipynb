from datetime import date

todays_date = date.today()
name = input("Enter your name: ")
age = int(input("Enter your age: "))

remaining = 100 - age
year = todays_date.year + remaining
print(f'hey {name}, you will turn 100 in {year}!!')
