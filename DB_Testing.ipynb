{
 "cells": [
  {
   "cell_type": "code",
<<<<<<< HEAD
   "execution_count": 1,
=======
   "execution_count": 23,
>>>>>>> exercise9
   "metadata": {
    "collapsed": true
   },
   "outputs": [],
   "source": [
    "import pymysql"
   ]
  },
  {
   "cell_type": "code",
<<<<<<< HEAD
   "execution_count": 6,
=======
   "execution_count": 18,
>>>>>>> exercise9
   "metadata": {
    "collapsed": false
   },
   "outputs": [],
   "source": [
    "conn = conn = pymysql.connect(host='localhost', port=3306, user='root', passwd='Admin@123', db='studentsdb')"
   ]
  },
  {
   "cell_type": "code",
<<<<<<< HEAD
   "execution_count": 7,
=======
   "execution_count": 19,
>>>>>>> exercise9
   "metadata": {
    "collapsed": true
   },
   "outputs": [],
   "source": [
    "cur = conn.cursor()"
   ]
  },
  {
   "cell_type": "code",
<<<<<<< HEAD
   "execution_count": 13,
=======
   "execution_count": 20,
>>>>>>> exercise9
   "metadata": {
    "collapsed": false
   },
   "outputs": [
    {
<<<<<<< HEAD
=======
     "name": "stderr",
     "output_type": "stream",
     "text": [
      "/home/vipin/anaconda3/lib/python3.6/site-packages/pymysql/cursors.py:166: Warning: (1050, \"Table 'Students' already exists\")\n",
      "  result = self._query(query)\n"
     ]
    },
    {
>>>>>>> exercise9
     "data": {
      "text/plain": [
       "0"
      ]
     },
<<<<<<< HEAD
     "execution_count": 13,
=======
     "execution_count": 20,
>>>>>>> exercise9
     "metadata": {},
     "output_type": "execute_result"
    }
   ],
   "source": [
<<<<<<< HEAD
    "cur.execute(\"\"\"CREATE TABLE Students (\n",
=======
    "cur.execute(\"\"\"CREATE TABLE IF NOT EXISTS Students (\n",
>>>>>>> exercise9
    "    ID int NOT NULL AUTO_INCREMENT,\n",
    "    LastName varchar(255) NOT NULL,\n",
    "    FirstName varchar(255),\n",
    "    Age int,\n",
    "    PRIMARY KEY (ID)\n",
    ");            \n",
    "            \"\"\")"
   ]
  },
  {
   "cell_type": "code",
<<<<<<< HEAD
   "execution_count": 21,
=======
   "execution_count": 29,
>>>>>>> exercise9
   "metadata": {
    "collapsed": false
   },
   "outputs": [
    {
<<<<<<< HEAD
     "data": {
      "text/plain": [
       "1"
      ]
     },
     "execution_count": 21,
     "metadata": {},
     "output_type": "execute_result"
    }
   ],
   "source": [
    "cur.execute(\"\"\"INSERT INTO Students \n",
    "VALUES(Null,'Maria','Anna',25);\n",
    "\"\"\")"
=======
     "name": "stdout",
     "output_type": "stream",
     "text": [
      "(2, 'Maria', 'Anna', 25)\n"
     ]
    }
   ],
   "source": [
    "with conn:\n",
    "#     cur.execute(\"\"\"INSERT INTO Students \n",
    "#                 VALUES(Null,'Maria','Anna',25);\n",
    "#                 \"\"\")\n",
    "    data = cur.execute(\"SELECT * FROM Students;\")\n",
    "    data = cur.fetchall()\n",
    "    for row in data :\n",
    "        print(row)"
>>>>>>> exercise9
   ]
  },
  {
   "cell_type": "code",
<<<<<<< HEAD
   "execution_count": 22,
   "metadata": {
    "collapsed": false
   },
   "outputs": [],
   "source": [
    "data = cur.execute(\"SELECT * FROM Students;\")"
   ]
  },
  {
   "cell_type": "code",
   "execution_count": 25,
=======
   "execution_count": 28,
>>>>>>> exercise9
   "metadata": {
    "collapsed": false
   },
   "outputs": [
    {
<<<<<<< HEAD
     "ename": "SyntaxError",
     "evalue": "invalid syntax (<ipython-input-25-4ca16d737e64>, line 1)",
     "output_type": "error",
     "traceback": [
      "\u001b[0;36m  File \u001b[0;32m\"<ipython-input-25-4ca16d737e64>\"\u001b[0;36m, line \u001b[0;32m1\u001b[0m\n\u001b[0;31m    for row in data =cur.fetchone:\u001b[0m\n\u001b[0m                    ^\u001b[0m\n\u001b[0;31mSyntaxError\u001b[0m\u001b[0;31m:\u001b[0m invalid syntax\n"
     ]
    }
   ],
   "source": [
    "for row in data = cur.fetchone:\n",
    "    print(row)"
   ]
=======
     "name": "stdout",
     "output_type": "stream",
     "text": [
      "(2, 'Maria', 'Anna', 25)\n"
     ]
    }
   ],
   "source": []
>>>>>>> exercise9
  },
  {
   "cell_type": "code",
   "execution_count": null,
   "metadata": {
    "collapsed": true
   },
   "outputs": [],
   "source": []
  }
 ],
 "metadata": {
  "kernelspec": {
   "display_name": "Python 3",
   "language": "python",
   "name": "python3"
  },
  "language_info": {
   "codemirror_mode": {
    "name": "ipython",
    "version": 3
   },
   "file_extension": ".py",
   "mimetype": "text/x-python",
   "name": "python",
   "nbconvert_exporter": "python",
   "pygments_lexer": "ipython3",
   "version": "3.6.0"
  }
 },
 "nbformat": 4,
 "nbformat_minor": 2
}
